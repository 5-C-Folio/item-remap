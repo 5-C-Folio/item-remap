{
 "cells": [
  {
   "cell_type": "code",
   "execution_count": 1,
   "metadata": {},
   "outputs": [],
   "source": [
    "import pandas as pd"
   ]
  },
  {
   "cell_type": "code",
   "execution_count": 8,
   "metadata": {},
   "outputs": [],
   "source": [
    "fileCheck=open(\"items-HAM-11-24-0923.tsv\" , 'r', encoding='utf8')"
   ]
  },
  {
   "cell_type": "code",
   "execution_count": 9,
   "metadata": {},
   "outputs": [
    {
     "name": "stderr",
     "output_type": "stream",
     "text": [
      "C:\\Users\\aneslin\\.conda\\envs\\Oracle transformations\\lib\\site-packages\\IPython\\core\\interactiveshell.py:3444: DtypeWarning: Columns (15,18,22,33,48) have mixed types.Specify dtype option on import or set low_memory=False.\n",
      "  exec(code_obj, self.user_global_ns, self.user_ns)\n"
     ]
    }
   ],
   "source": [
    "df = pd.read_csv(fileCheck, sep='\\t' )"
   ]
  },
  {
   "cell_type": "code",
   "execution_count": 38,
   "metadata": {},
   "outputs": [
    {
     "data": {
      "text/html": [
       "<div>\n",
       "<style scoped>\n",
       "    .dataframe tbody tr th:only-of-type {\n",
       "        vertical-align: middle;\n",
       "    }\n",
       "\n",
       "    .dataframe tbody tr th {\n",
       "        vertical-align: top;\n",
       "    }\n",
       "\n",
       "    .dataframe thead th {\n",
       "        text-align: right;\n",
       "    }\n",
       "</style>\n",
       "<table border=\"1\" class=\"dataframe\">\n",
       "  <thead>\n",
       "    <tr style=\"text-align: right;\">\n",
       "      <th></th>\n",
       "      <th>KEY</th>\n",
       "      <th>Z30_REC_KEY</th>\n",
       "      <th>Z30_BARCODE</th>\n",
       "      <th>Z30_SUB_LIBRARY</th>\n",
       "      <th>Z30_MATERIAL</th>\n",
       "      <th>Z30_ITEM_STATUS</th>\n",
       "      <th>Z30_OPEN_DATE</th>\n",
       "      <th>Z30_UPDATE_DATE</th>\n",
       "      <th>Z30_DATE_LAST_RETURN</th>\n",
       "      <th>Z30_HOUR_LAST_RETURN</th>\n",
       "      <th>...</th>\n",
       "      <th>Z30_PROCESS_STATUS_DATE</th>\n",
       "      <th>Z30_UPD_TIME_STAMP</th>\n",
       "      <th>prefix</th>\n",
       "      <th>call_number</th>\n",
       "      <th>suffix</th>\n",
       "      <th>folio_location</th>\n",
       "      <th>loanType</th>\n",
       "      <th>material_type</th>\n",
       "      <th>item_status</th>\n",
       "      <th>Z30_COPY_ID</th>\n",
       "    </tr>\n",
       "  </thead>\n",
       "  <tbody>\n",
       "    <tr>\n",
       "      <th>0</th>\n",
       "      <td>014936877000010YBC50</td>\n",
       "      <td>14936877000010</td>\n",
       "      <td>B1310-YBC</td>\n",
       "      <td>YMAIN</td>\n",
       "      <td>BOOK</td>\n",
       "      <td>2</td>\n",
       "      <td>20160201</td>\n",
       "      <td>20160202</td>\n",
       "      <td>0</td>\n",
       "      <td>0</td>\n",
       "      <td>...</td>\n",
       "      <td>20160201</td>\n",
       "      <td>201602020928207</td>\n",
       "      <td>NaN</td>\n",
       "      <td>NaN</td>\n",
       "      <td>NaN</td>\n",
       "      <td>NaN</td>\n",
       "      <td>Non-circulating</td>\n",
       "      <td>Book</td>\n",
       "      <td>Available</td>\n",
       "      <td>NaN</td>\n",
       "    </tr>\n",
       "    <tr>\n",
       "      <th>1</th>\n",
       "      <td>014936878000010YBC50</td>\n",
       "      <td>14936878000010</td>\n",
       "      <td>B1311-YBC</td>\n",
       "      <td>YMAIN</td>\n",
       "      <td>BOOK</td>\n",
       "      <td>2</td>\n",
       "      <td>20160201</td>\n",
       "      <td>20160202</td>\n",
       "      <td>0</td>\n",
       "      <td>0</td>\n",
       "      <td>...</td>\n",
       "      <td>20160201</td>\n",
       "      <td>201602020928207</td>\n",
       "      <td>NaN</td>\n",
       "      <td>NaN</td>\n",
       "      <td>NaN</td>\n",
       "      <td>NaN</td>\n",
       "      <td>Non-circulating</td>\n",
       "      <td>Book</td>\n",
       "      <td>Available</td>\n",
       "      <td>NaN</td>\n",
       "    </tr>\n",
       "    <tr>\n",
       "      <th>2</th>\n",
       "      <td>014936879000010YBC50</td>\n",
       "      <td>14936879000010</td>\n",
       "      <td>B1312-YBC</td>\n",
       "      <td>YMAIN</td>\n",
       "      <td>BOOK</td>\n",
       "      <td>2</td>\n",
       "      <td>20160201</td>\n",
       "      <td>20160202</td>\n",
       "      <td>0</td>\n",
       "      <td>0</td>\n",
       "      <td>...</td>\n",
       "      <td>20160201</td>\n",
       "      <td>201602020928207</td>\n",
       "      <td>NaN</td>\n",
       "      <td>NaN</td>\n",
       "      <td>NaN</td>\n",
       "      <td>NaN</td>\n",
       "      <td>Non-circulating</td>\n",
       "      <td>Book</td>\n",
       "      <td>Available</td>\n",
       "      <td>NaN</td>\n",
       "    </tr>\n",
       "    <tr>\n",
       "      <th>3</th>\n",
       "      <td>014936880000010YBC50</td>\n",
       "      <td>14936880000010</td>\n",
       "      <td>B1313-YBC</td>\n",
       "      <td>YMAIN</td>\n",
       "      <td>BOOK</td>\n",
       "      <td>2</td>\n",
       "      <td>20160201</td>\n",
       "      <td>20160202</td>\n",
       "      <td>0</td>\n",
       "      <td>0</td>\n",
       "      <td>...</td>\n",
       "      <td>20160201</td>\n",
       "      <td>201602020928207</td>\n",
       "      <td>NaN</td>\n",
       "      <td>NaN</td>\n",
       "      <td>NaN</td>\n",
       "      <td>NaN</td>\n",
       "      <td>Non-circulating</td>\n",
       "      <td>Book</td>\n",
       "      <td>Available</td>\n",
       "      <td>NaN</td>\n",
       "    </tr>\n",
       "    <tr>\n",
       "      <th>4</th>\n",
       "      <td>014936881000010YBC50</td>\n",
       "      <td>14936881000010</td>\n",
       "      <td>B1314-YBC</td>\n",
       "      <td>YMAIN</td>\n",
       "      <td>BOOK</td>\n",
       "      <td>2</td>\n",
       "      <td>20160201</td>\n",
       "      <td>20160202</td>\n",
       "      <td>0</td>\n",
       "      <td>0</td>\n",
       "      <td>...</td>\n",
       "      <td>20160201</td>\n",
       "      <td>201602020928208</td>\n",
       "      <td>NaN</td>\n",
       "      <td>NaN</td>\n",
       "      <td>NaN</td>\n",
       "      <td>NaN</td>\n",
       "      <td>Non-circulating</td>\n",
       "      <td>Book</td>\n",
       "      <td>Available</td>\n",
       "      <td>NaN</td>\n",
       "    </tr>\n",
       "  </tbody>\n",
       "</table>\n",
       "<p>5 rows × 49 columns</p>\n",
       "</div>"
      ],
      "text/plain": [
       "                    KEY     Z30_REC_KEY Z30_BARCODE Z30_SUB_LIBRARY  \\\n",
       "0  014936877000010YBC50  14936877000010   B1310-YBC           YMAIN   \n",
       "1  014936878000010YBC50  14936878000010   B1311-YBC           YMAIN   \n",
       "2  014936879000010YBC50  14936879000010   B1312-YBC           YMAIN   \n",
       "3  014936880000010YBC50  14936880000010   B1313-YBC           YMAIN   \n",
       "4  014936881000010YBC50  14936881000010   B1314-YBC           YMAIN   \n",
       "\n",
       "  Z30_MATERIAL  Z30_ITEM_STATUS  Z30_OPEN_DATE  Z30_UPDATE_DATE  \\\n",
       "0        BOOK                 2       20160201         20160202   \n",
       "1        BOOK                 2       20160201         20160202   \n",
       "2        BOOK                 2       20160201         20160202   \n",
       "3        BOOK                 2       20160201         20160202   \n",
       "4        BOOK                 2       20160201         20160202   \n",
       "\n",
       "   Z30_DATE_LAST_RETURN  Z30_HOUR_LAST_RETURN  ...  Z30_PROCESS_STATUS_DATE  \\\n",
       "0                     0                     0  ...                 20160201   \n",
       "1                     0                     0  ...                 20160201   \n",
       "2                     0                     0  ...                 20160201   \n",
       "3                     0                     0  ...                 20160201   \n",
       "4                     0                     0  ...                 20160201   \n",
       "\n",
       "  Z30_UPD_TIME_STAMP  prefix call_number  suffix  folio_location  \\\n",
       "0    201602020928207     NaN         NaN     NaN             NaN   \n",
       "1    201602020928207     NaN         NaN     NaN             NaN   \n",
       "2    201602020928207     NaN         NaN     NaN             NaN   \n",
       "3    201602020928207     NaN         NaN     NaN             NaN   \n",
       "4    201602020928208     NaN         NaN     NaN             NaN   \n",
       "\n",
       "          loanType  material_type  item_status  Z30_COPY_ID  \n",
       "0  Non-circulating           Book    Available          NaN  \n",
       "1  Non-circulating           Book    Available          NaN  \n",
       "2  Non-circulating           Book    Available          NaN  \n",
       "3  Non-circulating           Book    Available          NaN  \n",
       "4  Non-circulating           Book    Available          NaN  \n",
       "\n",
       "[5 rows x 49 columns]"
      ]
     },
     "execution_count": 38,
     "metadata": {},
     "output_type": "execute_result"
    }
   ],
   "source": [
    "df.head()"
   ]
  },
  {
   "cell_type": "code",
   "execution_count": 11,
   "metadata": {},
   "outputs": [
    {
     "data": {
      "text/plain": [
       "array(['Standard Loan', 'Non-circulating', 'Internet', 'Reserve 4 Hour',\n",
       "       '1 Week', 'Limited', '4 Week', 'Equipment 3 Day', 'Reserve 1 Day',\n",
       "       '1 Year'], dtype=object)"
      ]
     },
     "execution_count": 11,
     "metadata": {},
     "output_type": "execute_result"
    }
   ],
   "source": [
    "df[\"loanType\"].unique()"
   ]
  },
  {
   "cell_type": "code",
   "execution_count": 40,
   "metadata": {},
   "outputs": [
    {
     "data": {
      "text/plain": [
       "Book    29970\n",
       "Name: material_type, dtype: int64"
      ]
     },
     "execution_count": 40,
     "metadata": {},
     "output_type": "execute_result"
    }
   ],
   "source": [
    "df[\"material_type\"].value_counts()"
   ]
  },
  {
   "cell_type": "code",
   "execution_count": null,
   "metadata": {},
   "outputs": [],
   "source": [
    "fileCheck.close()"
   ]
  }
 ],
 "metadata": {
  "interpreter": {
   "hash": "e27b65d8b508a0279ad0c1c20c6ea2f5f0c760e99e14602158b3ee8f48bed408"
  },
  "kernelspec": {
   "display_name": "Python 3.8.12 64-bit ('Oracle transformations': conda)",
   "language": "python",
   "name": "python3"
  },
  "language_info": {
   "codemirror_mode": {
    "name": "ipython",
    "version": 3
   },
   "file_extension": ".py",
   "mimetype": "text/x-python",
   "name": "python",
   "nbconvert_exporter": "python",
   "pygments_lexer": "ipython3",
   "version": "3.8.12"
  },
  "orig_nbformat": 4
 },
 "nbformat": 4,
 "nbformat_minor": 2
}
